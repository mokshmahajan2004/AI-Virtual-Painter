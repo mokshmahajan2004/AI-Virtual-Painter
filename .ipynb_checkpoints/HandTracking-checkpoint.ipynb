{
 "cells": [
  {
   "cell_type": "code",
   "execution_count": 4,
   "id": "d2d318d3-3765-45c2-afaf-9ae369c46499",
   "metadata": {},
   "outputs": [],
   "source": [
    " import cv2\n",
    "import mediapipe as mp\n",
    "import time\n"
   ]
  },
  {
   "cell_type": "code",
   "execution_count": 5,
   "id": "711d6f29-b249-463e-8382-ea2ef7c5316b",
   "metadata": {},
   "outputs": [],
   "source": [
    "cap=cv2.VideoCapture(0)\n",
    "mpHands=mp.solutions.hands\n",
    "hands=mpHands.Hands()\n",
    "mpDraw=mp.solutions.drawing_utils\n",
    "pTime=0\n",
    "cTime=0\n",
    "    "
   ]
  },
  {
   "cell_type": "code",
   "execution_count": null,
   "id": "1b7b7a43-51a1-4e60-8ae0-1e949012f589",
   "metadata": {},
   "outputs": [],
   "source": [
    "while True:\n",
    "    sucess,img=cap.read()\n",
    "    imgRGB= cv2.cvtColor(img, cv2.COLOR_BGR2RGB)\n",
    "    results=hands.process(imgRGB)\n",
    "    #print(results.multi_hand_landmarks)\n",
    "    if results.multi_hand_landmarks:\n",
    "        for handLms in results.multi_hand_landmarks:\n",
    "            for id,lm in enumerate(handLms.landmark):\n",
    "                #print(id,lm)\n",
    "                h, w, c =img.shape\n",
    "                cx, cy = int(lm.x*w),int(lm.y*h)\n",
    "                print(id,cx,cy)\n",
    "                # if id == 4:\n",
    "                    cv2.circle(img,(cx,cy),15,(255,0,255),cv2.FILLED)\n",
    "            mpDraw.draw_landmarks(img,handLms,mpHands.HAND_CONNECTIONS)\n",
    "    cTime=time.time()\n",
    "    fps=1/(cTime-pTime)\n",
    "    pTime=cTime\n",
    "    cv2.putText(img,str(int(fps)),(10,70),cv2.FONT_HERSHEY_PLAIN,3,(255,0,255),3)\n",
    "    \n",
    "    \n",
    "    cv2.imshow(\"Image\",img)\n",
    "    cv2.waitKey(1)"
   ]
  },
  {
   "cell_type": "code",
   "execution_count": null,
   "id": "6e14a88d-b326-427a-9efb-489f999ea4dd",
   "metadata": {},
   "outputs": [],
   "source": []
  }
 ],
 "metadata": {
  "kernelspec": {
   "display_name": "Python 3 (ipykernel)",
   "language": "python",
   "name": "python3"
  },
  "language_info": {
   "codemirror_mode": {
    "name": "ipython",
    "version": 3
   },
   "file_extension": ".py",
   "mimetype": "text/x-python",
   "name": "python",
   "nbconvert_exporter": "python",
   "pygments_lexer": "ipython3",
   "version": "3.12.4"
  }
 },
 "nbformat": 4,
 "nbformat_minor": 5
}
