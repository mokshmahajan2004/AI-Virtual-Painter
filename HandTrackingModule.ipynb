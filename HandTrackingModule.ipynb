{
 "cells": [
  {
   "cell_type": "code",
   "execution_count": 5,
   "id": "ca1fedea-8189-4974-9491-bb74fa45a37e",
   "metadata": {},
   "outputs": [],
   "source": [
    "import cv2\n",
    "import mediapipe as mp\n",
    "import time\n",
    "\n",
    "# class handDetector():\n",
    "#     def __init__(self,mode=False,maxHands=2,detectionCon=0.5,trackCon=0.5):\n",
    "#         self.mode=mode\n",
    "#         self.maxHands=maxHands\n",
    "#         self.detectionCon=detectionCon\n",
    "#         self.trackCon=trackCon\n",
    "        \n",
    "#         self.mpHands=mp.solutions.hands\n",
    "#         self.hands=self.mpHands.Hands(self.mode,self.maxHands,self.detectionCon,self.trackCon)\n",
    "#         self.mpDraw=mp.solutions.drawing_utils\n",
    "   \n",
    "#     def findHands(self,img,draw=True):\n",
    "#         imgRGB= cv2.cvtColor(img, cv2.COLOR_BGR2RGB)\n",
    "#         results=self.hands.process(imgRGB)\n",
    "#         #print(results.multi_hand_landmarks)\n",
    "#         if results.multi_hand_landmarks:\n",
    "#             for handLms in results.multi_hand_landmarks:\n",
    "#                 if draw:\n",
    "#                     self.mpDraw.draw_landmarks(img,handLms,self.mpHands.HAND_CONNECTIONS)\n",
    "#         return img\n",
    "                    \n",
    "#                 # for id,lm in enumerate(handLms.landmark):\n",
    "#                 #     #print(id,lm)\n",
    "#                 #     h, w, c =img.shape\n",
    "#                 #     cx, cy = int(lm.x*w),int(lm.y*h)\n",
    "#                 #     print(id,cx,cy)\n",
    "#                 #     # if id == 4:\n",
    "#                 #         cv2.circle(img,(cx,cy),15,(255,0,255),cv2.FILLED)"
   ]
  },
  {
   "cell_type": "code",
   "execution_count": 6,
   "id": "9276f2ca-da36-4639-9ff0-076424d9ea8f",
   "metadata": {},
   "outputs": [],
   "source": [
    "\n",
    "class handDetector:\n",
    "    def __init__(self, mode=False, maxHands=2, detectionCon=0.5, trackCon=0.5):\n",
    "        self.mode = mode\n",
    "        self.maxHands = maxHands\n",
    "        self.detectionCon = detectionCon\n",
    "        self.trackCon = trackCon\n",
    "        \n",
    "        self.mpHands = mp.solutions.hands\n",
    "        self.hands = self.mpHands.Hands(\n",
    "            static_image_mode=self.mode,\n",
    "            max_num_hands=self.maxHands,\n",
    "            min_detection_confidence=float(self.detectionCon),\n",
    "            min_tracking_confidence=float(self.trackCon)\n",
    "        )\n",
    "        self.mpDraw = mp.solutions.drawing_utils\n",
    "\n",
    "    def findHands(self, img, draw=True):\n",
    "        imgRGB = cv2.cvtColor(img, cv2.COLOR_BGR2RGB)\n",
    "        self.results = self.hands.process(imgRGB)\n",
    "        if self.results.multi_hand_landmarks:\n",
    "            for handLms in self.results.multi_hand_landmarks:\n",
    "                if draw:\n",
    "                    self.mpDraw.draw_landmarks(img, handLms, self.mpHands.HAND_CONNECTIONS)\n",
    "        return img"
   ]
  },
  {
   "cell_type": "code",
   "execution_count": 7,
   "id": "ba832af8-af47-4955-b84a-3ba87440e092",
   "metadata": {},
   "outputs": [],
   "source": [
    "def main():\n",
    "    pTime=0\n",
    "    cTime=0\n",
    "    cap=cv2.VideoCapture(0)\n",
    "    detector=handDetector(detectionCon=0.5, trackCon=0.5)\n",
    "    while True:\n",
    "        sucess,img=cap.read()\n",
    "        img=detector.findHands(img)\n",
    "        \n",
    "        cTime=time.time()\n",
    "        fps=1/(cTime-pTime)\n",
    "        pTime=cTime\n",
    "        cv2.putText(img,str(int(fps)),(10,70),cv2.FONT_HERSHEY_PLAIN,3,(255,0,255),3)\n",
    "        cv2.imshow(\"Image\",img)\n",
    "        if cv2.waitKey(1)& 0xFF == ord('q'):\n",
    "            break\n",
    "\n",
    "    cap.release()\n",
    "    cv2.destroyAllWindows()"
   ]
  },
  {
   "cell_type": "code",
   "execution_count": 8,
   "id": "a90ffb20-aa8a-4aeb-b459-48eda04df29d",
   "metadata": {},
   "outputs": [
    {
     "name": "stderr",
     "output_type": "stream",
     "text": [
      "C:\\Users\\moksh\\anaconda3\\envs\\General\\Lib\\site-packages\\google\\protobuf\\symbol_database.py:55: UserWarning: SymbolDatabase.GetPrototype() is deprecated. Please use message_factory.GetMessageClass() instead. SymbolDatabase.GetPrototype() will be removed soon.\n",
      "  warnings.warn('SymbolDatabase.GetPrototype() is deprecated. Please '\n"
     ]
    }
   ],
   "source": [
    "if __name__==\"__main__\":\n",
    "    main()"
   ]
  },
  {
   "cell_type": "code",
   "execution_count": null,
   "id": "7b6b6e1e-6c22-459e-a98a-3f108acaf8cd",
   "metadata": {},
   "outputs": [],
   "source": []
  }
 ],
 "metadata": {
  "kernelspec": {
   "display_name": "Python 3 (ipykernel)",
   "language": "python",
   "name": "python3"
  },
  "language_info": {
   "codemirror_mode": {
    "name": "ipython",
    "version": 3
   },
   "file_extension": ".py",
   "mimetype": "text/x-python",
   "name": "python",
   "nbconvert_exporter": "python",
   "pygments_lexer": "ipython3",
   "version": "3.12.4"
  }
 },
 "nbformat": 4,
 "nbformat_minor": 5
}
